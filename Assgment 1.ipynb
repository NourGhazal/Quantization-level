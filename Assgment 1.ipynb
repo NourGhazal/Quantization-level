{
 "cells": [
  {
   "cell_type": "code",
   "execution_count": 12,
   "id": "0aee3a9f",
   "metadata": {},
   "outputs": [],
   "source": [
    "import numpy as np \n",
    "from PIL import Image \n",
    "from matplotlib import pyplot as plt"
   ]
  },
  {
   "cell_type": "code",
   "execution_count": 13,
   "id": "ff37d2d1",
   "metadata": {},
   "outputs": [],
   "source": [
    "def CalculateColorMap(img):\n",
    "    colorMap={}\n",
    "    count=0\n",
    "    width, height = img.size\n",
    "    arr = [[0 for i in range(height)] for j in range(width)]\n",
    "    for i in range (width):\n",
    "        for j in range (height):\n",
    "            r,g,b = img.getpixel((i,j))\n",
    "            index = (r,g,b)\n",
    "            if( not index in colorMap):\n",
    "                colorMap[index]=count\n",
    "                arr[i][j]=count\n",
    "                count+=1\n",
    "            else:\n",
    "                arr[i][j]=colorMap[index]\n",
    "    returnValue = {\"colorMap\":colorMap,\"indexedImage\":arr}            \n",
    "    return returnValue \n"
   ]
  },
  {
   "cell_type": "code",
   "execution_count": 14,
   "id": "a112b5a8",
   "metadata": {},
   "outputs": [],
   "source": [
    "def QuantizationLevels(colorMap,ourrange):\n",
    "    removedColors = {}\n",
    "    kept = {}\n",
    "    for color in list(colorMap.items()):\n",
    "        x = tuple(map(lambda i: i - ourrange, color[0]))\n",
    "        y=tuple(map(lambda i: i +ourrange, color[0]))\n",
    "        if(color[0] in colorMap ):\n",
    "            kept[color[0]]=colorMap[color[0]]\n",
    "            for color2 in list(colorMap.items()):\n",
    "                all(x1 < y1 for x1, y1 in zip(color2[0], y))\n",
    "                if(all(x1 > y1 for x1, y1 in zip(color2[0], x)) and  all(x1 < y1 for x1, y1 in zip(color2[0], y)) and (not color2[0] in kept)):\n",
    "                    indexdel =colorMap[color2[0]]\n",
    "                    indexkept = colorMap[color[0]]\n",
    "                    removedColors[indexdel] = indexkept\n",
    "                    del colorMap[color2[0]]\n",
    "    return {\"colorMap\":colorMap,\"removedColors\":removedColors}\n",
    "        \n",
    "    \n",
    "    "
   ]
  },
  {
   "cell_type": "code",
   "execution_count": 15,
   "id": "2a1f4a42",
   "metadata": {},
   "outputs": [],
   "source": [
    "def AdjustIndex(arr,removedColors):\n",
    "    for index1,col in enumerate(arr):\n",
    "        for index2,entry in enumerate(col):\n",
    "            if(entry in removedColors):\n",
    "                arr[index1][index2] = removedColors[entry]\n",
    "    return arr\n",
    "    "
   ]
  },
  {
   "cell_type": "code",
   "execution_count": 16,
   "id": "554f5925",
   "metadata": {},
   "outputs": [],
   "source": [
    "def ReverseColorMap(colorMap):\n",
    "    newColorMap={}\n",
    "    for index in colorMap:\n",
    "        value= colorMap[index]\n",
    "        newColorMap[value]=index\n",
    "    colorMap=newColorMap\n",
    "    return newColorMap"
   ]
  },
  {
   "cell_type": "code",
   "execution_count": 17,
   "id": "552204b8",
   "metadata": {},
   "outputs": [],
   "source": [
    "def ColorMapToImage(arr,colorMap,imageName):\n",
    "    img = Image.new('RGB', (len(arr), len(arr[0])), 'white')\n",
    "    width = len(arr)\n",
    "    height=len(arr[0])\n",
    "    for i in range (width):\n",
    "        for j in range (height):\n",
    "            index= arr[i][j]\n",
    "            img.putpixel((i,j),colorMap[index])\n",
    "    img.save(\"output/\"+imageName)"
   ]
  },
  {
   "cell_type": "code",
   "execution_count": 18,
   "id": "b601662a",
   "metadata": {},
   "outputs": [],
   "source": [
    "import os \n",
    "basedir = \"input/\"\n",
    "our_range = 50\n",
    "for image in os.listdir(basedir):\n",
    "    img = Image.open(basedir+image)\n",
    "    x= CalculateColorMap(img)\n",
    "    colorMap = x[\"colorMap\"]\n",
    "    arr = x[\"indexedImage\"]\n",
    "    y = QuantizationLevels(colorMap,our_range)\n",
    "    colorMap =  y[\"colorMap\"]\n",
    "    removedColors = y['removedColors']\n",
    "    arr = AdjustIndex(arr,removedColors)\n",
    "    colorMap=ReverseColorMap(colorMap)\n",
    "    ColorMapToImage(arr,colorMap,image)"
   ]
  },
  {
   "cell_type": "code",
   "execution_count": null,
   "id": "bcaf0add",
   "metadata": {},
   "outputs": [],
   "source": []
  },
  {
   "cell_type": "code",
   "execution_count": null,
   "id": "55d39726",
   "metadata": {},
   "outputs": [],
   "source": []
  }
 ],
 "metadata": {
  "kernelspec": {
   "display_name": "Python 3 (ipykernel)",
   "language": "python",
   "name": "python3"
  },
  "language_info": {
   "codemirror_mode": {
    "name": "ipython",
    "version": 3
   },
   "file_extension": ".py",
   "mimetype": "text/x-python",
   "name": "python",
   "nbconvert_exporter": "python",
   "pygments_lexer": "ipython3",
   "version": "3.7.1"
  }
 },
 "nbformat": 4,
 "nbformat_minor": 5
}
