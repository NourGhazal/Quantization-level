{
 "cells": [
  {
   "cell_type": "code",
   "execution_count": 2,
   "id": "0aee3a9f",
   "metadata": {},
   "outputs": [],
   "source": [
    "import numpy as np \n",
    "from PIL import Image \n",
    "from matplotlib import pyplot as plt"
   ]
  },
  {
   "cell_type": "code",
   "execution_count": 3,
   "id": "ff37d2d1",
   "metadata": {},
   "outputs": [],
   "source": [
    "def CalculateColorMap(img):\n",
    "    colorMap={}\n",
    "    count=0\n",
    "    width, height = img.size\n",
    "    arr = [[0 for i in range(height)] for j in range(width)]\n",
    "    for i in range (width):\n",
    "        for j in range (height):\n",
    "            r,g,b = img.getpixel((i,j))\n",
    "            index = (r,g,b)\n",
    "            if( not index in colorMap):\n",
    "                colorMap[index]=count\n",
    "                arr[i][j]=count\n",
    "                count+=1\n",
    "            else:\n",
    "                arr[i][j]=colorMap[index]\n",
    "    returnValue = {\"colorMap\":colorMap,\"indexedImage\":arr}            \n",
    "    return returnValue \n"
   ]
  },
  {
   "cell_type": "code",
   "execution_count": 4,
   "id": "a112b5a8",
   "metadata": {},
   "outputs": [
    {
     "ename": "SyntaxError",
     "evalue": "unexpected EOF while parsing (Temp/ipykernel_17412/293157020.py, line 2)",
     "output_type": "error",
     "traceback": [
      "\u001b[1;36m  File \u001b[1;32m\"C:\\Users\\Ghazal\\AppData\\Local\\Temp/ipykernel_17412/293157020.py\"\u001b[1;36m, line \u001b[1;32m2\u001b[0m\n\u001b[1;33m    \u001b[0m\n\u001b[1;37m    ^\u001b[0m\n\u001b[1;31mSyntaxError\u001b[0m\u001b[1;31m:\u001b[0m unexpected EOF while parsing\n"
     ]
    }
   ],
   "source": [
    "# def QuantizationLevels(colorMap,ourrange):\n",
    "    "
   ]
  },
  {
   "cell_type": "code",
   "execution_count": 5,
   "id": "2a1f4a42",
   "metadata": {},
   "outputs": [],
   "source": [
    "def AdjustIndex(arr,removedColors):\n",
    "    for entry,index in arr:\n",
    "        if(entry in removedColors):\n",
    "            arr[index] = removedColors[entry]\n",
    "    return arr\n",
    "    "
   ]
  },
  {
   "cell_type": "code",
   "execution_count": 6,
   "id": "554f5925",
   "metadata": {},
   "outputs": [],
   "source": [
    "def ReverseColorMap(colorMap):\n",
    "    newColorMap={}\n",
    "    for index in colorMap:\n",
    "        value= colorMap[index]\n",
    "        newColorMap[value]=index\n",
    "    colorMap=newColorMap\n",
    "    return newColorMap"
   ]
  },
  {
   "cell_type": "code",
   "execution_count": 7,
   "id": "552204b8",
   "metadata": {},
   "outputs": [],
   "source": [
    "def ColorMapToImage(arr,colorMap):\n",
    "    img = Image.new('RGB', (len(arr), len(arr[0])), 'white')\n",
    "    width = len(arr)\n",
    "    height=len(arr[0])\n",
    "    for i in range (width):\n",
    "        for j in range (height):\n",
    "            index= arr[i][j]\n",
    "            img.putpixel((i,j),colorMap[index])\n",
    "    img.save(\"output/HI.png\")"
   ]
  },
  {
   "cell_type": "code",
   "execution_count": 8,
   "id": "bf3564b4",
   "metadata": {},
   "outputs": [],
   "source": [
    "#Testing My functions\n",
    "img = Image.open(\"Test Image.Jpg\")\n",
    "x= CalculateColorMap(img)\n",
    "x[\"colorMap\"]=ReverseColorMap(x[\"colorMap\"])\n",
    "ColorMapToImage(x[\"indexedImage\"],x[\"colorMap\"])\n",
    "\n"
   ]
  },
  {
   "cell_type": "code",
   "execution_count": null,
   "id": "e981ea72",
   "metadata": {},
   "outputs": [],
   "source": [
    "print(AdjustIndex[])"
   ]
  }
 ],
 "metadata": {
  "kernelspec": {
   "display_name": "Python 3 (ipykernel)",
   "language": "python",
   "name": "python3"
  },
  "language_info": {
   "codemirror_mode": {
    "name": "ipython",
    "version": 3
   },
   "file_extension": ".py",
   "mimetype": "text/x-python",
   "name": "python",
   "nbconvert_exporter": "python",
   "pygments_lexer": "ipython3",
   "version": "3.7.1"
  }
 },
 "nbformat": 4,
 "nbformat_minor": 5
}
